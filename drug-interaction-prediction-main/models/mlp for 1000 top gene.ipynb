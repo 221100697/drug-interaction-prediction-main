{
 "cells": [
  {
   "cell_type": "code",
   "execution_count": 1,
   "id": "8c8bdb97",
   "metadata": {},
   "outputs": [],
   "source": [
    "from sklearn.model_selection import train_test_split\n",
    "from sklearn.preprocessing import StandardScaler\n",
    "from sklearn.metrics import classification_report, roc_auc_score\n",
    "from tensorflow.keras.models import Sequential\n",
    "from tensorflow.keras.layers import Dense, Dropout, BatchNormalization\n",
    "from tensorflow.keras.callbacks import EarlyStopping\n",
    "import pandas as pd"
   ]
  },
  {
   "cell_type": "code",
   "execution_count": 2,
   "id": "0957995c",
   "metadata": {},
   "outputs": [],
   "source": [
    "\n",
    "# تحميل البيانات\n",
    "X = pd.read_csv(\"C:/LINCS_DATA/project/features/X_train_val.csv\")\n",
    "y = pd.read_csv(\"C:/LINCS_DATA/project/features/y_train_val.csv\")['label']\n",
    "X_test = pd.read_csv(\"C:/LINCS_DATA/project/features/X_test_unseen.csv\")\n",
    "y_test = pd.read_csv(\"C:/LINCS_DATA/project/features/y_test_unseen.csv\")['label']"
   ]
  },
  {
   "cell_type": "code",
   "execution_count": 4,
   "id": "79dc67e6",
   "metadata": {},
   "outputs": [],
   "source": [
    "# نحذف الأعمدة النصية\n",
    "X_clean = X.drop(columns=['drugA_name', 'sig_id_A', 'drugB_name', 'sig_id_B'], errors='ignore')\n",
    "X_test_clean = X_test.drop(columns=['drugA_name', 'sig_id_A', 'drugB_name', 'sig_id_B'], errors='ignore')\n",
    "\n",
    "# تطبيع البيانات\n",
    "scaler = StandardScaler()\n",
    "X_scaled = scaler.fit_transform(X_clean)\n",
    "X_test_scaled = scaler.transform(X_test_clean)\n"
   ]
  },
  {
   "cell_type": "code",
   "execution_count": 9,
   "id": "0c57f7bd",
   "metadata": {},
   "outputs": [],
   "source": [
    "# تقسيم داخلي إلى Train و Validation (85/15)\n",
    "from sklearn.model_selection import train_test_split\n",
    "X_train, X_val, y_train, y_val = train_test_split(\n",
    "    X_scaled, y, test_size=0.15, random_state=42, stratify=y\n",
    ")\n"
   ]
  },
  {
   "cell_type": "code",
   "execution_count": 17,
   "id": "ab1794dc",
   "metadata": {},
   "outputs": [
    {
     "name": "stdout",
     "output_type": "stream",
     "text": [
      "📊 Class Weights: {0: np.float64(0.6137931034482759), 1: np.float64(2.696969696969697)}\n"
     ]
    }
   ],
   "source": [
    "from sklearn.utils.class_weight import compute_class_weight\n",
    "import numpy as np\n",
    "\n",
    "# استخدم y الموجود فعلياً\n",
    "classes = np.unique(y)\n",
    "class_weights = compute_class_weight(class_weight='balanced', classes=classes, y=y)\n",
    "\n",
    "# نحوله إلى dict\n",
    "class_weight_dict = {int(cls): weight for cls, weight in zip(classes, class_weights)}\n",
    "print(\"📊 Class Weights:\", class_weight_dict)\n"
   ]
  },
  {
   "cell_type": "code",
   "execution_count": 19,
   "id": "1f006a9d",
   "metadata": {},
   "outputs": [
    {
     "name": "stderr",
     "output_type": "stream",
     "text": [
      "C:\\Users\\Reem Ramadan\\AppData\\Roaming\\Python\\Python310\\site-packages\\keras\\src\\layers\\core\\dense.py:93: UserWarning: Do not pass an `input_shape`/`input_dim` argument to a layer. When using Sequential models, prefer using an `Input(shape)` object as the first layer in the model instead.\n",
      "  super().__init__(activity_regularizer=activity_regularizer, **kwargs)\n"
     ]
    }
   ],
   "source": [
    "# بناء النموذج\n",
    "model = Sequential([\n",
    "    Dense(512, activation='relu', input_shape=(2001,)),\n",
    "    BatchNormalization(),\n",
    "    Dropout(0.5),\n",
    "    Dense(256, activation='relu'),\n",
    "    BatchNormalization(),\n",
    "    Dropout(0.3),\n",
    "    Dense(1, activation='sigmoid')\n",
    "])"
   ]
  },
  {
   "cell_type": "code",
   "execution_count": 23,
   "id": "4393bbd5",
   "metadata": {},
   "outputs": [
    {
     "name": "stderr",
     "output_type": "stream",
     "text": [
      "C:\\Users\\Reem Ramadan\\AppData\\Roaming\\Python\\Python310\\site-packages\\keras\\src\\layers\\core\\dense.py:93: UserWarning: Do not pass an `input_shape`/`input_dim` argument to a layer. When using Sequential models, prefer using an `Input(shape)` object as the first layer in the model instead.\n",
      "  super().__init__(activity_regularizer=activity_regularizer, **kwargs)\n"
     ]
    }
   ],
   "source": [
    "from keras.models import Sequential\n",
    "from keras.layers import Dense, Dropout, BatchNormalization\n",
    "\n",
    "model = Sequential([\n",
    "    Dense(512, activation='relu', input_shape=(X_train.shape[1],)),\n",
    "    BatchNormalization(),\n",
    "    Dropout(0.5),\n",
    "\n",
    "    Dense(256, activation='relu'),\n",
    "    BatchNormalization(),\n",
    "    Dropout(0.4),\n",
    "\n",
    "    Dense(128, activation='relu'),\n",
    "    Dropout(0.3),\n",
    "\n",
    "    Dense(1, activation='sigmoid')\n",
    "])\n"
   ]
  },
  {
   "cell_type": "code",
   "execution_count": 29,
   "id": "c57751ad",
   "metadata": {},
   "outputs": [],
   "source": [
    "from keras.optimizers import Adam\n",
    "\n",
    "# التجميع\n",
    "\n",
    "model.compile(loss='binary_crossentropy', optimizer=Adam(learning_rate=0.001), metrics=['accuracy'])\n"
   ]
  },
  {
   "cell_type": "code",
   "execution_count": 31,
   "id": "6e4338a9",
   "metadata": {},
   "outputs": [
    {
     "name": "stdout",
     "output_type": "stream",
     "text": [
      "Epoch 1/50\n"
     ]
    },
    {
     "name": "stdout",
     "output_type": "stream",
     "text": [
      "\u001b[1m5/5\u001b[0m \u001b[32m━━━━━━━━━━━━━━━━━━━━\u001b[0m\u001b[37m\u001b[0m \u001b[1m0s\u001b[0m 52ms/step - accuracy: 0.7498 - loss: 0.5869 - val_accuracy: 0.9259 - val_loss: 0.1238\n",
      "Epoch 2/50\n",
      "\u001b[1m5/5\u001b[0m \u001b[32m━━━━━━━━━━━━━━━━━━━━\u001b[0m\u001b[37m\u001b[0m \u001b[1m0s\u001b[0m 23ms/step - accuracy: 0.8197 - loss: 0.2876 - val_accuracy: 0.9259 - val_loss: 0.2632\n",
      "Epoch 3/50\n",
      "\u001b[1m5/5\u001b[0m \u001b[32m━━━━━━━━━━━━━━━━━━━━\u001b[0m\u001b[37m\u001b[0m \u001b[1m0s\u001b[0m 24ms/step - accuracy: 0.8402 - loss: 0.3007 - val_accuracy: 0.8889 - val_loss: 0.3222\n",
      "Epoch 4/50\n",
      "\u001b[1m5/5\u001b[0m \u001b[32m━━━━━━━━━━━━━━━━━━━━\u001b[0m\u001b[37m\u001b[0m \u001b[1m0s\u001b[0m 24ms/step - accuracy: 0.8027 - loss: 0.3671 - val_accuracy: 0.8889 - val_loss: 0.2806\n",
      "Epoch 5/50\n",
      "\u001b[1m5/5\u001b[0m \u001b[32m━━━━━━━━━━━━━━━━━━━━\u001b[0m\u001b[37m\u001b[0m \u001b[1m0s\u001b[0m 26ms/step - accuracy: 0.8913 - loss: 0.2750 - val_accuracy: 0.8889 - val_loss: 0.2651\n",
      "Epoch 6/50\n",
      "\u001b[1m5/5\u001b[0m \u001b[32m━━━━━━━━━━━━━━━━━━━━\u001b[0m\u001b[37m\u001b[0m \u001b[1m0s\u001b[0m 23ms/step - accuracy: 0.8886 - loss: 0.1975 - val_accuracy: 0.8889 - val_loss: 0.3987\n",
      "Epoch 7/50\n",
      "\u001b[1m5/5\u001b[0m \u001b[32m━━━━━━━━━━━━━━━━━━━━\u001b[0m\u001b[37m\u001b[0m \u001b[1m0s\u001b[0m 27ms/step - accuracy: 0.8316 - loss: 0.2708 - val_accuracy: 0.8889 - val_loss: 0.3462\n",
      "Epoch 8/50\n",
      "\u001b[1m5/5\u001b[0m \u001b[32m━━━━━━━━━━━━━━━━━━━━\u001b[0m\u001b[37m\u001b[0m \u001b[1m0s\u001b[0m 25ms/step - accuracy: 0.8450 - loss: 0.3038 - val_accuracy: 0.8889 - val_loss: 0.2981\n",
      "Epoch 9/50\n",
      "\u001b[1m5/5\u001b[0m \u001b[32m━━━━━━━━━━━━━━━━━━━━\u001b[0m\u001b[37m\u001b[0m \u001b[1m0s\u001b[0m 25ms/step - accuracy: 0.8561 - loss: 0.3141 - val_accuracy: 0.8889 - val_loss: 0.4057\n",
      "Epoch 10/50\n",
      "\u001b[1m5/5\u001b[0m \u001b[32m━━━━━━━━━━━━━━━━━━━━\u001b[0m\u001b[37m\u001b[0m \u001b[1m0s\u001b[0m 25ms/step - accuracy: 0.8661 - loss: 0.3299 - val_accuracy: 0.8889 - val_loss: 0.4036\n",
      "Epoch 11/50\n",
      "\u001b[1m5/5\u001b[0m \u001b[32m━━━━━━━━━━━━━━━━━━━━\u001b[0m\u001b[37m\u001b[0m \u001b[1m0s\u001b[0m 27ms/step - accuracy: 0.9022 - loss: 0.2152 - val_accuracy: 0.9259 - val_loss: 0.2977\n"
     ]
    }
   ],
   "source": [
    "early_stop = EarlyStopping(patience=10, restore_best_weights=True)\n",
    "\n",
    "history = model.fit(\n",
    "    X_train, y_train,\n",
    "    validation_data=(X_val, y_val),\n",
    "    epochs=50,\n",
    "    batch_size=32,\n",
    "    callbacks=[early_stop],\n",
    "    class_weight=class_weight_dict,\n",
    "    verbose=1\n",
    ")"
   ]
  },
  {
   "cell_type": "code",
   "execution_count": null,
   "id": "65cdfd0a",
   "metadata": {},
   "outputs": [
    {
     "name": "stdout",
     "output_type": "stream",
     "text": [
      "\u001b[1m10/10\u001b[0m \u001b[32m━━━━━━━━━━━━━━━━━━━━\u001b[0m\u001b[37m\u001b[0m \u001b[1m0s\u001b[0m 10ms/step\n",
      "📊 Evaluation on Unseen Test:\n",
      "              precision    recall  f1-score   support\n",
      "\n",
      "           0       0.71      0.94      0.80       218\n",
      "           1       0.36      0.09      0.14        93\n",
      "\n",
      "    accuracy                           0.68       311\n",
      "   macro avg       0.53      0.51      0.47       311\n",
      "weighted avg       0.60      0.68      0.61       311\n",
      "\n",
      "ROC-AUC: 0.551297227976719\n"
     ]
    },
    {
     "ename": "",
     "evalue": "",
     "output_type": "error",
     "traceback": [
      "\u001b[1;31mThe Kernel crashed while executing code in the current cell or a previous cell. \n",
      "\u001b[1;31mPlease review the code in the cell(s) to identify a possible cause of the failure. \n",
      "\u001b[1;31mClick <a href='https://aka.ms/vscodeJupyterKernelCrash'>here</a> for more info. \n",
      "\u001b[1;31mView Jupyter <a href='command:jupyter.viewOutput'>log</a> for further details."
     ]
    }
   ],
   "source": [
    "# تقييم على test\n",
    "y_pred_prob = model.predict(X_test_scaled)\n",
    "y_pred_class = (y_pred_prob > 0.5).astype(int)\n",
    "\n",
    "print(\"📊 Evaluation on Unseen Test:\")\n",
    "print(classification_report(y_test, y_pred_class))\n",
    "print(\"ROC-AUC:\", roc_auc_score(y_test, y_pred_prob))"
   ]
  },
  {
   "cell_type": "code",
   "execution_count": 15,
   "id": "1bd28a3b",
   "metadata": {},
   "outputs": [
    {
     "name": "stdout",
     "output_type": "stream",
     "text": [
      "\u001b[1m10/10\u001b[0m \u001b[32m━━━━━━━━━━━━━━━━━━━━\u001b[0m\u001b[37m\u001b[0m \u001b[1m0s\u001b[0m 3ms/step \n",
      "📊 Model Evaluation Metrics:\n",
      "✅ Accuracy     : 0.6913\n",
      "✅ Precision    : 0.4545\n",
      "✅ Recall       : 0.1613\n",
      "✅ F1-score     : 0.2381\n",
      "✅ ROC-AUC      : 0.5896\n",
      "\n",
      "🧾 Confusion Matrix:\n",
      "[[200  18]\n",
      " [ 78  15]]\n"
     ]
    }
   ],
   "source": [
    "\n",
    "from sklearn.metrics import accuracy_score, precision_score, recall_score, f1_score, confusion_matrix\n",
    "\n",
    "# التنبؤ على بيانات الاختبار\n",
    "y_pred_proba = model.predict(X_test_scaled)\n",
    "y_pred = (y_pred_proba > 0.5).astype(int)\n",
    "\n",
    "# تحويل y_test إلى array لو كان DataFrame\n",
    "y_true = y_test.values.ravel()\n",
    "\n",
    "# حساب المقاييس\n",
    "accuracy = accuracy_score(y_true, y_pred)\n",
    "precision = precision_score(y_true, y_pred)\n",
    "recall = recall_score(y_true, y_pred)\n",
    "f1 = f1_score(y_true, y_pred)\n",
    "roc_auc = roc_auc_score(y_true, y_pred_proba)\n",
    "conf_matrix = confusion_matrix(y_true, y_pred)\n",
    "\n",
    "# عرض النتائج\n",
    "print(\"📊 Model Evaluation Metrics:\")\n",
    "print(f\"✅ Accuracy     : {accuracy:.4f}\")\n",
    "print(f\"✅ Precision    : {precision:.4f}\")\n",
    "print(f\"✅ Recall       : {recall:.4f}\")\n",
    "print(f\"✅ F1-score     : {f1:.4f}\")\n",
    "print(f\"✅ ROC-AUC      : {roc_auc:.4f}\")\n",
    "print(\"\\n🧾 Confusion Matrix:\")\n",
    "print(conf_matrix)"
   ]
  }
 ],
 "metadata": {
  "kernelspec": {
   "display_name": "Python 3",
   "language": "python",
   "name": "python3"
  },
  "language_info": {
   "codemirror_mode": {
    "name": "ipython",
    "version": 3
   },
   "file_extension": ".py",
   "mimetype": "text/x-python",
   "name": "python",
   "nbconvert_exporter": "python",
   "pygments_lexer": "ipython3",
   "version": "3.10.0"
  }
 },
 "nbformat": 4,
 "nbformat_minor": 5
}
