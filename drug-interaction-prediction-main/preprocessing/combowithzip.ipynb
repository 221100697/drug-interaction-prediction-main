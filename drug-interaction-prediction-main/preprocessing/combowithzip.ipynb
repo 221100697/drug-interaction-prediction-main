{
 "cells": [
  {
   "cell_type": "code",
   "execution_count": null,
   "id": "b355deb0",
   "metadata": {},
   "outputs": [
    {
     "name": "stdout",
     "output_type": "stream",
     "text": [
      "✅ step 1 complete: combo_with_zip.csv created.\n"
     ]
    }
   ],
   "source": [
    "import pandas as pd\n",
    "\n",
    "\n",
    "combo_df = pd.read_csv(r\"C:\\project grad linex\\project\\data\\LABELS\\combo_design.csv\")\n",
    "synergy_df = pd.read_csv(r\"C:\\project grad linex\\project\\data\\LABELS\\synergy_score.csv\")\n",
    "\n",
    "\n",
    "combo_df = combo_df.reset_index(drop=True)\n",
    "combo_df[\"row_index\"] = combo_df.index + 1\n",
    "\n",
    "synergy_df = synergy_df.reset_index(drop=True)\n",
    "synergy_df[\"row_index\"] = synergy_df.index + 1\n",
    "\n",
    "\n",
    "combo_df[\"zip\"] = combo_df[\"row_index\"].map(dict(zip(synergy_df[\"row_index\"], synergy_df[\"zip\"])))\n",
    "\n",
    "\n",
    "combo_df.to_csv(r\"C:\\project grad linex\\project\\data\\LABELS\\combo_with_zip.csv\", index=False)\n",
    "print(\"✅ step 1 complete: combo_with_zip.csv created.\")\n"
   ]
  }
 ],
 "metadata": {
  "kernelspec": {
   "display_name": "Python 3",
   "language": "python",
   "name": "python3"
  },
  "language_info": {
   "codemirror_mode": {
    "name": "ipython",
    "version": 3
   },
   "file_extension": ".py",
   "mimetype": "text/x-python",
   "name": "python",
   "nbconvert_exporter": "python",
   "pygments_lexer": "ipython3",
   "version": "3.13.1"
  }
 },
 "nbformat": 4,
 "nbformat_minor": 5
}
