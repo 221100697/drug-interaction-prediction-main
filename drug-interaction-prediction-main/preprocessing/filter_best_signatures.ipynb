{
 "cells": [
  {
   "cell_type": "code",
   "execution_count": 1,
   "id": "c5e76862",
   "metadata": {},
   "outputs": [],
   "source": [
    "import pandas as pd\n"
   ]
  },
  {
   "cell_type": "code",
   "execution_count": null,
   "id": "afdafcad",
   "metadata": {},
   "outputs": [],
   "source": [
    "\n",
    "df = pd.read_csv(\"C:/LINCS_DATA/best_signature_per_drug.csv\")"
   ]
  },
  {
   "cell_type": "code",
   "execution_count": null,
   "id": "4720f154",
   "metadata": {},
   "outputs": [],
   "source": [
    "\n",
    "df['pert_iname'] = df['pert_iname'].str.lower().str.strip()"
   ]
  },
  {
   "cell_type": "code",
   "execution_count": null,
   "id": "0dd064b3",
   "metadata": {},
   "outputs": [],
   "source": [
    "\n",
    "filtered = df[\n",
    "    (df['pert_type'] == 'trt_cp') &\n",
    "    (df['pert_time'] == 24)\n",
    "]"
   ]
  },
  {
   "cell_type": "code",
   "execution_count": null,
   "id": "381c6ecd",
   "metadata": {},
   "outputs": [],
   "source": [
    "\n",
    "filtered_sorted = filtered.sort_values(by=['pert_iname', 'pert_dose'], ascending=[True, False])\n",
    "best_per_drug = filtered_sorted.drop_duplicates(subset='pert_iname', keep='first')"
   ]
  },
  {
   "cell_type": "code",
   "execution_count": null,
   "id": "bccde339",
   "metadata": {},
   "outputs": [
    {
     "name": "stdout",
     "output_type": "stream",
     "text": [
      "✅ عدد الأدوية الفريدة بعد الفلترة = 392\n"
     ]
    }
   ],
   "source": [
    "\n",
    "best_per_drug.to_csv(\"C:/LINCS_DATA/best_signature_per_drug_deduplicated.csv\", index=False)\n",
    "\n",
    "print(f\"✅ عدد الأدوية الفريدة بعد الفلترة = {len(best_per_drug)}\")"
   ]
  }
 ],
 "metadata": {
  "kernelspec": {
   "display_name": "Python 3",
   "language": "python",
   "name": "python3"
  },
  "language_info": {
   "codemirror_mode": {
    "name": "ipython",
    "version": 3
   },
   "file_extension": ".py",
   "mimetype": "text/x-python",
   "name": "python",
   "nbconvert_exporter": "python",
   "pygments_lexer": "ipython3",
   "version": "3.10.0"
  }
 },
 "nbformat": 4,
 "nbformat_minor": 5
}
