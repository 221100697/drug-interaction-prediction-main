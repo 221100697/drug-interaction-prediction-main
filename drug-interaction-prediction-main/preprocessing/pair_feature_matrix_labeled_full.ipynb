{
 "cells": [
  {
   "cell_type": "code",
   "execution_count": 77,
   "id": "7718a069",
   "metadata": {},
   "outputs": [],
   "source": [
    "import pandas as pd\n",
    "import os"
   ]
  },
  {
   "cell_type": "code",
   "execution_count": null,
   "id": "e48a3819",
   "metadata": {},
   "outputs": [],
   "source": [
    "\n",
    "base_path = \"C:/LINCS_DATA/project/data/\"\n",
    "features_path = \"C:/LINCS_DATA/project/features/\"\n",
    "zscore_file = base_path + \"zscore_matrix_392.csv\"\n",
    "\n",
    "sig_df = pd.read_csv(base_path + \"best_signature_per_drug_final.csv\")\n",
    "combo_file = base_path + \"LABELS/combo_design.csv\"\n",
    "drug_file = base_path + \"LABELS/drug.csv\"\n",
    "label_file = features_path + \"pair_labels.csv\"  \n",
    "\n"
   ]
  },
  {
   "cell_type": "code",
   "execution_count": null,
   "id": "f040672e",
   "metadata": {},
   "outputs": [],
   "source": [
    "\n",
    "zscore_df = pd.read_csv(zscore_file, index_col='sig_id')\n",
    "combo_df = pd.read_csv(combo_file)\n",
    "drug_df = pd.read_csv(drug_file)\n",
    "sig_df = pd.read_csv(sig_file)\n",
    "label_df = pd.read_csv(label_file)"
   ]
  },
  {
   "cell_type": "code",
   "execution_count": null,
   "id": "53da1484",
   "metadata": {},
   "outputs": [],
   "source": [
    "\n",
    "drug_map = dict(zip(drug_df['idDrug'], drug_df['name']))\n",
    "combo_df['drugA_name'] = combo_df['idDrugA'].map(drug_map).str.lower().str.strip()\n",
    "combo_df['drugB_name'] = combo_df['idDrugB'].map(drug_map).str.lower().str.strip()"
   ]
  },
  {
   "cell_type": "code",
   "execution_count": null,
   "id": "bfb25aae",
   "metadata": {},
   "outputs": [],
   "source": [
    "\n",
    "sig_df['pert_iname'] = sig_df['pert_iname'].str.lower().str.strip()\n",
    "sig_map = dict(zip(sig_df['pert_iname'], sig_df['sig_id']))\n",
    "combo_df['sig_id_A'] = combo_df['drugA_name'].map(sig_map)\n",
    "combo_df['sig_id_B'] = combo_df['drugB_name'].map(sig_map)"
   ]
  },
  {
   "cell_type": "code",
   "execution_count": null,
   "id": "25351844",
   "metadata": {},
   "outputs": [],
   "source": [
    "\n",
    "combo_df = combo_df.dropna(subset=['sig_id_A', 'sig_id_B'])"
   ]
  },
  {
   "cell_type": "code",
   "execution_count": null,
   "id": "3b2d44e9",
   "metadata": {},
   "outputs": [],
   "source": [
    "\n",
    "combo_df = combo_df.reset_index(drop=True)\n",
    "combo_df['row_index'] = combo_df.index + 1  # لمطابقة idSynergy_Score\n",
    "label_map = dict(zip(label_df['idSynergy_Score'], label_df['zip']))\n",
    "combo_df['zip'] = combo_df['row_index'].map(label_map)\n",
    "combo_df = combo_df.dropna(subset=['zip'])\n"
   ]
  },
  {
   "cell_type": "code",
   "execution_count": null,
   "id": "5f2acf84",
   "metadata": {},
   "outputs": [],
   "source": [
    "\n",
    "combo_df['label'] = combo_df['zip'].apply(lambda x: 1 if x > -0.5 else 0)"
   ]
  },
  {
   "cell_type": "code",
   "execution_count": null,
   "id": "1c13c7a1",
   "metadata": {},
   "outputs": [],
   "source": [
    "\n",
    "rows = []\n",
    "n_genes = zscore_df.shape[1]\n",
    "columns = (\n",
    "    ['drugA_name', 'sig_id_A', 'drugB_name', 'sig_id_B'] +\n",
    "    [f'gene{i+1}_A' for i in range(n_genes)] +\n",
    "    [f'gene{i+1}_B' for i in range(n_genes)] +\n",
    "    ['label']\n",
    ")\n",
    "\n",
    "for _, row in combo_df.iterrows():\n",
    "    sigA, sigB = row['sig_id_A'], row['sig_id_B']\n",
    "    if sigA in zscore_df.index and sigB in zscore_df.index:\n",
    "        vecA = zscore_df.loc[sigA].values\n",
    "        vecB = zscore_df.loc[sigB].values\n",
    "        features = [\n",
    "            row['drugA_name'], sigA,\n",
    "            row['drugB_name'], sigB,\n",
    "            *vecA, *vecB, int(row['label'])\n",
    "        ]\n",
    "        rows.append(features)"
   ]
  },
  {
   "cell_type": "code",
   "execution_count": null,
   "id": "043aada6",
   "metadata": {},
   "outputs": [
    {
     "name": "stdout",
     "output_type": "stream",
     "text": [
      "✅ تم حفظ 489 زوج دوائي في pair_feature_matrix_labeled_full.csv\n"
     ]
    }
   ],
   "source": [
    "\n",
    "df_final = pd.DataFrame(rows, columns=columns)\n",
    "df_final.to_csv(os.path.join(features_path, \"pair_feature_matrix_labeled_full.csv\"), index=False)\n",
    "print(f\"✅ تم حفظ {len(df_final)} زوج دوائي في pair_feature_matrix_labeled_full.csv\")\n"
   ]
  }
 ],
 "metadata": {
  "kernelspec": {
   "display_name": "Python 3",
   "language": "python",
   "name": "python3"
  },
  "language_info": {
   "codemirror_mode": {
    "name": "ipython",
    "version": 3
   },
   "file_extension": ".py",
   "mimetype": "text/x-python",
   "name": "python",
   "nbconvert_exporter": "python",
   "pygments_lexer": "ipython3",
   "version": "3.10.0"
  }
 },
 "nbformat": 4,
 "nbformat_minor": 5
}
