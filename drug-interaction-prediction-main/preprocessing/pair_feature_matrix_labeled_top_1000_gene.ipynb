{
 "cells": [
  {
   "cell_type": "code",
   "execution_count": 2,
   "id": "9a4b6db8",
   "metadata": {},
   "outputs": [],
   "source": [
    "import pandas as pd\n",
    "import os"
   ]
  },
  {
   "cell_type": "code",
   "execution_count": null,
   "id": "5b58b7f8",
   "metadata": {},
   "outputs": [],
   "source": [
    "\n",
    "data_path = 'C:/LINCS_DATA/project/data/'\n",
    "features_path = 'C:/LINCS_DATA/project/features/'\n",
    "\n",
    "zscore_file = data_path + \"zscore_matrix_top1000.csv\"\n",
    "combo_file = data_path + 'LABELS/combo_design.csv'\n",
    "drug_file = data_path + 'LABELS/drug.csv'\n",
    "sig_file = data_path + 'best_signature_per_drug_final.csv'\n",
    "label_file = data_path + 'LABELS/synergy_score.csv'"
   ]
  },
  {
   "cell_type": "code",
   "execution_count": null,
   "id": "a91b9225",
   "metadata": {},
   "outputs": [],
   "source": [
    "\n",
    "zscore_df = pd.read_csv(zscore_file, index_col='sig_id')\n",
    "combo_df = pd.read_csv(combo_file)\n",
    "drug_df = pd.read_csv(drug_file)\n",
    "sig_df = pd.read_csv(sig_file)\n",
    "label_df = pd.read_csv(label_file)"
   ]
  },
  {
   "cell_type": "code",
   "execution_count": null,
   "id": "0620bf1e",
   "metadata": {},
   "outputs": [],
   "source": [
    "\n",
    "drug_df['name'] = drug_df['name'].str.lower().str.strip()\n",
    "sig_df['pert_iname'] = sig_df['pert_iname'].str.lower().str.strip()"
   ]
  },
  {
   "cell_type": "code",
   "execution_count": null,
   "id": "8a330a08",
   "metadata": {},
   "outputs": [],
   "source": [
    "\n",
    "drug_map = dict(zip(drug_df['idDrug'], drug_df['name']))\n",
    "combo_df['drugA_name'] = combo_df['idDrugA'].map(drug_map).str.lower().str.strip()\n",
    "combo_df['drugB_name'] = combo_df['idDrugB'].map(drug_map).str.lower().str.strip()"
   ]
  },
  {
   "cell_type": "code",
   "execution_count": null,
   "id": "d0a85bcc",
   "metadata": {},
   "outputs": [],
   "source": [
    "\n",
    "sig_map = dict(zip(sig_df['pert_iname'], sig_df['sig_id']))\n",
    "combo_df['sig_id_A'] = combo_df['drugA_name'].map(sig_map)\n",
    "combo_df['sig_id_B'] = combo_df['drugB_name'].map(sig_map)"
   ]
  },
  {
   "cell_type": "code",
   "execution_count": null,
   "id": "8a52c817",
   "metadata": {},
   "outputs": [],
   "source": [
    "\n",
    "zscore_df = zscore_df.loc[zscore_df.index.intersection(sig_df['sig_id'])]"
   ]
  },
  {
   "cell_type": "code",
   "execution_count": null,
   "id": "3a85aaa6",
   "metadata": {},
   "outputs": [],
   "source": [
    "\n",
    "\n",
    "combo_df = combo_df.dropna(subset=['sig_id_A', 'sig_id_B']).reset_index(drop=True)"
   ]
  },
  {
   "cell_type": "code",
   "execution_count": null,
   "id": "bcd9311b",
   "metadata": {},
   "outputs": [],
   "source": [
    "\n",
    "combo_df['row_index'] = combo_df.index + 1\n",
    "label_map = dict(zip(label_df['idSynergy_Score'], label_df['zip']))\n",
    "combo_df['zip'] = combo_df['row_index'].map(label_map)\n",
    "combo_df = combo_df.dropna(subset=['zip'])"
   ]
  },
  {
   "cell_type": "code",
   "execution_count": null,
   "id": "27f169f1",
   "metadata": {},
   "outputs": [],
   "source": [
    "\n",
    "\n",
    "combo_df['label'] = combo_df['zip'].apply(lambda x: 1 if x > -0.5 else 0)\n"
   ]
  },
  {
   "cell_type": "code",
   "execution_count": null,
   "id": "6e0174d1",
   "metadata": {},
   "outputs": [],
   "source": [
    "\n",
    "rows = []\n",
    "n_genes = zscore_df.shape[1]\n",
    "columns = (\n",
    "    ['drugA_name', 'sig_id_A', 'drugB_name', 'sig_id_B'] +\n",
    "    [f'gene{i+1}_A' for i in range(n_genes)] +\n",
    "    [f'gene{i+1}_B' for i in range(n_genes)] +\n",
    "    ['label']\n",
    ")\n",
    "\n",
    "for _, row in combo_df.iterrows():\n",
    "    sigA, sigB = row['sig_id_A'], row['sig_id_B']\n",
    "    if sigA in zscore_df.index and sigB in zscore_df.index:\n",
    "        vecA = zscore_df.loc[sigA].values\n",
    "        vecB = zscore_df.loc[sigB].values\n",
    "        features = [\n",
    "            row['drugA_name'], sigA,\n",
    "            row['drugB_name'], sigB,\n",
    "            *vecA, *vecB, int(row['label'])\n",
    "        ]\n",
    "        rows.append(features)\n"
   ]
  },
  {
   "cell_type": "code",
   "execution_count": null,
   "id": "64959a24",
   "metadata": {},
   "outputs": [],
   "source": [
    "\n",
    "df_final = pd.DataFrame(rows, columns=columns)"
   ]
  },
  {
   "cell_type": "code",
   "execution_count": null,
   "id": "d33d8455",
   "metadata": {},
   "outputs": [
    {
     "name": "stdout",
     "output_type": "stream",
     "text": [
      "✅ تم حفظ 489 زوج دوائي في C:/LINCS_DATA/project/features/pair_feature_matrix_labeled_full.csv\n"
     ]
    }
   ],
   "source": [
    "\n",
    "output_path = os.path.join(features_path, \"pair_feature_matrix_labeled_full.csv\")\n",
    "df_final.to_csv(output_path, index=False)\n",
    "print(f\"✅ تم حفظ {len(df_final)} زوج دوائي في {output_path}\")"
   ]
  },
  {
   "cell_type": "code",
   "execution_count": null,
   "id": "7b385984",
   "metadata": {},
   "outputs": [
    {
     "name": "stdout",
     "output_type": "stream",
     "text": [
      "📄 تم حفظ قائمة بـ 69 دواء فـ used_drugs.txt\n"
     ]
    }
   ],
   "source": [
    "\n",
    "used_drugs = set(combo_df['drugA_name']).union(set(combo_df['drugB_name']))\n",
    "with open(os.path.join(features_path, \"used_drugs.txt\"), 'w') as f:\n",
    "    f.write(\"\\n\".join(sorted(used_drugs)))\n",
    "print(f\"📄 تم حفظ قائمة بـ {len(used_drugs)} دواء فـ used_drugs.txt\")"
   ]
  }
 ],
 "metadata": {
  "kernelspec": {
   "display_name": "Python 3",
   "language": "python",
   "name": "python3"
  },
  "language_info": {
   "codemirror_mode": {
    "name": "ipython",
    "version": 3
   },
   "file_extension": ".py",
   "mimetype": "text/x-python",
   "name": "python",
   "nbconvert_exporter": "python",
   "pygments_lexer": "ipython3",
   "version": "3.10.0"
  }
 },
 "nbformat": 4,
 "nbformat_minor": 5
}
