{
 "cells": [
  {
   "cell_type": "code",
   "execution_count": 90,
   "id": "d4b567ba",
   "metadata": {},
   "outputs": [],
   "source": [
    "import pandas as pd\n",
    "import numpy as np\n",
    "import joblib"
   ]
  },
  {
   "cell_type": "code",
   "execution_count": null,
   "id": "4af47c95",
   "metadata": {},
   "outputs": [],
   "source": [
    "\n",
    "df = pd.read_csv(r\"C:\\LINCS_DATA\\project\\features\\pair_feature_matrix_labeled_top_1000_gene.csv\")\n",
    "df.rename(columns={'drugA_name': 'drugA', 'drugB_name': 'drugB'}, inplace=True)\n",
    "df.dropna(inplace=True)\n",
    "\n"
   ]
  },
  {
   "cell_type": "code",
   "execution_count": null,
   "id": "b81011b2",
   "metadata": {},
   "outputs": [],
   "source": [
    "\n",
    "\n",
    "model = joblib.load(r\"C:\\LINCS_DATA\\project\\models\\tabtrans_model.pkl\")"
   ]
  },
  {
   "cell_type": "code",
   "execution_count": null,
   "id": "adaa3da6",
   "metadata": {},
   "outputs": [],
   "source": [
    "\n",
    "\n",
    "heldout_drugs = ['floxuridine', 'allopurinol', 'thiotepa', 'azacitidine', 'crizotinib']\n",
    "mask_test = df['drugA'].isin(heldout_drugs) | df['drugB'].isin(heldout_drugs)\n",
    "df_test = df[mask_test].copy()"
   ]
  },
  {
   "cell_type": "code",
   "execution_count": null,
   "id": "2315af6e",
   "metadata": {},
   "outputs": [],
   "source": [
    "\n",
    "feature_cols = [c for c in df.columns if c.startswith(\"gene\")]"
   ]
  },
  {
   "cell_type": "code",
   "execution_count": 87,
   "id": "9f0df428",
   "metadata": {},
   "outputs": [
    {
     "name": "stdout",
     "output_type": "stream",
     "text": [
      "✅ Saved: C:\\LINCS_DATA\\project\\features\\recommendations_crizotinib.csv\n"
     ]
    }
   ],
   "source": [
    "output_df.sort_values(by=\"predicted_score\", ascending=False).to_csv(filename, index=False)\n",
    "print(f\"✅ Saved: {filename}\")\n"
   ]
  },
  {
   "cell_type": "code",
   "execution_count": null,
   "id": "f91983e4",
   "metadata": {},
   "outputs": [
    {
     "name": "stdout",
     "output_type": "stream",
     "text": [
      "\u001b[1m4/4\u001b[0m \u001b[32m━━━━━━━━━━━━━━━━━━━━\u001b[0m\u001b[37m\u001b[0m \u001b[1m1s\u001b[0m 125ms/step\n"
     ]
    }
   ],
   "source": [
    "\n",
    "X = df_test[feature_cols].values\n",
    "scores = model.predict(X).ravel()\n",
    "predicted_label = (scores > 0.5).astype(int)\n"
   ]
  },
  {
   "cell_type": "code",
   "execution_count": null,
   "id": "06dc8931",
   "metadata": {},
   "outputs": [
    {
     "name": "stdout",
     "output_type": "stream",
     "text": [
      "✅ Saved unified test predictions: recommendations_all_test_pairs.csv\n"
     ]
    }
   ],
   "source": [
    "\n",
    "df_test[\"predicted_score\"] = scores\n",
    "df_test[\"predicted_label\"] = predicted_label\n",
    "\n",
    "df_test[['drugA', 'drugB', 'predicted_score', 'predicted_label']].sort_values(\n",
    "    by=\"predicted_score\", ascending=False\n",
    ").to_csv(r\"C:\\LINCS_DATA\\project\\features\\recommendations_all_test_pairs.csv\", index=False)\n",
    "\n",
    "print(\"✅ Saved unified test predictions: recommendations_all_test_pairs.csv\")"
   ]
  }
 ],
 "metadata": {
  "kernelspec": {
   "display_name": "Python 3",
   "language": "python",
   "name": "python3"
  },
  "language_info": {
   "codemirror_mode": {
    "name": "ipython",
    "version": 3
   },
   "file_extension": ".py",
   "mimetype": "text/x-python",
   "name": "python",
   "nbconvert_exporter": "python",
   "pygments_lexer": "ipython3",
   "version": "3.10.0"
  }
 },
 "nbformat": 4,
 "nbformat_minor": 5
}
