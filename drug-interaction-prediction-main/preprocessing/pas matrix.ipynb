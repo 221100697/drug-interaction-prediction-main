{
 "cells": [
  {
   "cell_type": "code",
   "execution_count": 1,
   "id": "c75a51c5",
   "metadata": {},
   "outputs": [],
   "source": [
    "\n",
    "import pandas as pd\n",
    "import numpy as np"
   ]
  },
  {
   "cell_type": "code",
   "execution_count": null,
   "id": "c45fc8ab",
   "metadata": {},
   "outputs": [],
   "source": [
    "\n",
    "data_path = \"C:/LINCS_DATA/project/data/\"\n",
    "zscore_path = data_path + \"zscore_matrix_392.csv\"\n",
    "pathway_file = data_path + \"hallmark_pathways_filtered.csv\"  # يحتوي على pathway, gene"
   ]
  },
  {
   "cell_type": "code",
   "execution_count": null,
   "id": "1f74b893",
   "metadata": {},
   "outputs": [],
   "source": [
    "\n",
    "z_df = pd.read_csv(zscore_path, index_col=0)"
   ]
  },
  {
   "cell_type": "code",
   "execution_count": null,
   "id": "9b4b1258",
   "metadata": {},
   "outputs": [],
   "source": [
    "\n",
    "pathway_df = pd.read_csv(pathway_file)\n",
    "pathway_dict = pathway_df.groupby(\"pathway\")[\"gene\"].apply(list).to_dict()"
   ]
  },
  {
   "cell_type": "code",
   "execution_count": null,
   "id": "028e0902",
   "metadata": {},
   "outputs": [],
   "source": [
    "\n",
    "pas_matrix = []\n",
    "\n",
    "for sig_id, row in z_df.iterrows():\n",
    "    gene_expr = row.to_dict()\n",
    "    pas_row = {}\n",
    "\n",
    "    for pathway, genes in pathway_dict.items():\n",
    "        scores = [gene_expr[str(g)] for g in genes if str(g) in gene_expr]\n",
    "        pas_score = np.mean(scores) if scores else 0\n",
    "        pas_row[pathway] = pas_score\n",
    "\n",
    "    pas_matrix.append(pas_row)"
   ]
  },
  {
   "cell_type": "code",
   "execution_count": null,
   "id": "175e14ea",
   "metadata": {},
   "outputs": [],
   "source": [
    "\n",
    "\n",
    "pas_df = pd.DataFrame(pas_matrix, index=z_df.index)"
   ]
  },
  {
   "cell_type": "code",
   "execution_count": null,
   "id": "82111c4d",
   "metadata": {},
   "outputs": [
    {
     "name": "stdout",
     "output_type": "stream",
     "text": [
      "✅ تم إنشاء ملف PAS بنجاح.\n"
     ]
    }
   ],
   "source": [
    "\n",
    "pas_df.to_csv(\"C:/LINCS_DATA/project/features/pas_matrix.csv\")\n",
    "print(\"✅ تم إنشاء ملف PAS بنجاح.\")\n"
   ]
  }
 ],
 "metadata": {
  "kernelspec": {
   "display_name": "Python 3",
   "language": "python",
   "name": "python3"
  },
  "language_info": {
   "codemirror_mode": {
    "name": "ipython",
    "version": 3
   },
   "file_extension": ".py",
   "mimetype": "text/x-python",
   "name": "python",
   "nbconvert_exporter": "python",
   "pygments_lexer": "ipython3",
   "version": "3.10.0"
  }
 },
 "nbformat": 4,
 "nbformat_minor": 5
}
