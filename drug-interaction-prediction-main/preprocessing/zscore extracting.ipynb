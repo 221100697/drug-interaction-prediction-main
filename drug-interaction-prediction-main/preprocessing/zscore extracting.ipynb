{
 "cells": [
  {
   "cell_type": "code",
   "execution_count": null,
   "id": "a9a9605b",
   "metadata": {},
   "outputs": [],
   "source": [
    "pip install cmapPy\n"
   ]
  },
  {
   "cell_type": "code",
   "execution_count": 26,
   "id": "1300e5ab",
   "metadata": {},
   "outputs": [],
   "source": [
    "from cmapPy.pandasGEXpress.parse import parse\n",
    "import pandas as pd\n"
   ]
  },
  {
   "cell_type": "code",
   "execution_count": null,
   "id": "468870d3",
   "metadata": {},
   "outputs": [],
   "source": [
    "\n",
    "sig_file = 'C:/LINCS_DATA/project/data/best_signature_per_drug_final.csv'\n",
    "gctx_file = 'C:/LINCS_DATA/project/data/LINCS SOURCE/GSE92742.gctx'\n",
    "output_path = 'C:/LINCS_DATA/project/data/zscore_matrix_392.csv'  # حفظ داخل data/"
   ]
  },
  {
   "cell_type": "code",
   "execution_count": null,
   "id": "43ba7a8d",
   "metadata": {},
   "outputs": [],
   "source": [
    "\n",
    "sig_ids = pd.read_csv(sig_file)['sig_id'].dropna().unique().tolist()"
   ]
  },
  {
   "cell_type": "code",
   "execution_count": null,
   "id": "4a4d3d60",
   "metadata": {},
   "outputs": [
    {
     "name": "stderr",
     "output_type": "stream",
     "text": [
      "C:\\Users\\Reem Ramadan\\AppData\\Roaming\\Python\\Python310\\site-packages\\cmapPy\\pandasGEXpress\\parse_gctx.py:275: FutureWarning: errors='ignore' is deprecated and will raise in a future version. Use to_numeric without passing `errors` and catch exceptions explicitly instead\n",
      "  meta_df = meta_df.apply(lambda x: pd.to_numeric(x, errors=\"ignore\"))\n",
      "C:\\Users\\Reem Ramadan\\AppData\\Roaming\\Python\\Python310\\site-packages\\cmapPy\\pandasGEXpress\\parse_gctx.py:275: FutureWarning: errors='ignore' is deprecated and will raise in a future version. Use to_numeric without passing `errors` and catch exceptions explicitly instead\n",
      "  meta_df = meta_df.apply(lambda x: pd.to_numeric(x, errors=\"ignore\"))\n"
     ]
    }
   ],
   "source": [
    "\n",
    "\n",
    "gctx_data = parse(gctx_file, cid=sig_ids)"
   ]
  },
  {
   "cell_type": "code",
   "execution_count": null,
   "id": "9749a291",
   "metadata": {},
   "outputs": [],
   "source": [
    "\n",
    "z_matrix = gctx_data.data_df.T\n",
    "z_matrix.index.name = 'sig_id'"
   ]
  },
  {
   "cell_type": "code",
   "execution_count": null,
   "id": "8929336c",
   "metadata": {},
   "outputs": [
    {
     "name": "stdout",
     "output_type": "stream",
     "text": [
      "✅ تم حفظ ملف Z-score matrix في: C:/LINCS_DATA/project/data/zscore_matrix_392.csv\n"
     ]
    }
   ],
   "source": [
    "\n",
    "\n",
    "z_matrix.to_csv(output_path)\n",
    "\n",
    "print(f\"✅ تم حفظ ملف Z-score matrix في: {output_path}\")"
   ]
  },
  {
   "cell_type": "code",
   "execution_count": 34,
   "id": "ab9c0786",
   "metadata": {},
   "outputs": [
    {
     "name": "stdout",
     "output_type": "stream",
     "text": [
      "(392, 12329)\n",
      "                                      sig_id      5720       466      6009  \\\n",
      "0  CPC005_A375_24H:BRD-A60197193-001-05-4:10  0.460457  1.168406  1.028211   \n",
      "1  CPC005_A375_24H:BRD-A84493640-001-03-3:10  0.750472 -0.182492  2.168382   \n",
      "\n",
      "       2309       387      3553       427      5898     23365  ...      2931  \\\n",
      "0 -0.143967 -0.044248 -0.660861 -0.067542  0.563637 -0.202064  ... -0.236797   \n",
      "1  0.003054  0.352043  1.357449  0.119404  0.683385 -0.764483  ... -0.317909   \n",
      "\n",
      "      63876     51275    158747    283232     25960      6376     11033  \\\n",
      "0  0.115209  0.077147  0.336853 -0.589837 -0.459768 -0.207757 -0.131410   \n",
      "1 -0.737216  0.290905  0.641286  0.291950 -0.128636  0.323371 -0.435041   \n",
      "\n",
      "      54869        60  \n",
      "0  0.503284 -0.419319  \n",
      "1 -0.279143  0.937351  \n",
      "\n",
      "[2 rows x 12329 columns]\n"
     ]
    }
   ],
   "source": [
    "df = pd.read_csv('C:/LINCS_DATA/project/data/zscore_matrix_392.csv')\n",
    "print(df.shape)\n",
    "print(df.head(2))\n"
   ]
  }
 ],
 "metadata": {
  "kernelspec": {
   "display_name": "Python 3",
   "language": "python",
   "name": "python3"
  },
  "language_info": {
   "codemirror_mode": {
    "name": "ipython",
    "version": 3
   },
   "file_extension": ".py",
   "mimetype": "text/x-python",
   "name": "python",
   "nbconvert_exporter": "python",
   "pygments_lexer": "ipython3",
   "version": "3.10.0"
  }
 },
 "nbformat": 4,
 "nbformat_minor": 5
}
