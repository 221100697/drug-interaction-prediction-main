{
 "cells": [
  {
   "cell_type": "code",
   "execution_count": 1,
   "id": "2dc809c3",
   "metadata": {},
   "outputs": [],
   "source": [
    "import pandas as pd"
   ]
  },
  {
   "cell_type": "code",
   "execution_count": 3,
   "id": "8aa8946e",
   "metadata": {},
   "outputs": [],
   "source": [
    "drug_path = 'C:/LINCS_DATA/LABELS/drug.csv'\n",
    "sig_info_path = 'C:/LINCS_DATA/GSE92742_Broad_LINCS_sig_info1.txt'"
   ]
  },
  {
   "cell_type": "code",
   "execution_count": null,
   "id": "b7f353f7",
   "metadata": {},
   "outputs": [
    {
     "name": "stderr",
     "output_type": "stream",
     "text": [
      "C:\\Users\\Reem Ramadan\\AppData\\Local\\Temp\\ipykernel_10836\\548906075.py:3: DtypeWarning: Columns (5) have mixed types. Specify dtype option on import or set low_memory=False.\n",
      "  sig_info_df = pd.read_csv(sig_info_path, sep='\\t')\n"
     ]
    }
   ],
   "source": [
    "\n",
    "drug_df = pd.read_csv(drug_path)\n",
    "sig_info_df = pd.read_csv(sig_info_path, sep='\\t')\n"
   ]
  },
  {
   "cell_type": "code",
   "execution_count": null,
   "id": "97674099",
   "metadata": {},
   "outputs": [],
   "source": [
    "\n",
    "\n",
    "synergy_drugs = drug_df['name'].str.lower().str.strip().unique()"
   ]
  },
  {
   "cell_type": "code",
   "execution_count": null,
   "id": "eebbafa1",
   "metadata": {},
   "outputs": [],
   "source": [
    "\n",
    "\n",
    "lincs_drugs = sig_info_df['pert_iname'].str.lower().str.strip().unique()"
   ]
  },
  {
   "cell_type": "code",
   "execution_count": null,
   "id": "ee5b31ff",
   "metadata": {},
   "outputs": [],
   "source": [
    "\n",
    "common_drugs = sorted(set(synergy_drugs) & set(lincs_drugs))"
   ]
  },
  {
   "cell_type": "code",
   "execution_count": null,
   "id": "344a406c",
   "metadata": {},
   "outputs": [
    {
     "name": "stdout",
     "output_type": "stream",
     "text": [
      "✅ عدد الأدوية المشتركة بين LINCS وSYNERGxDB: 392\n",
      "📄 تم حفظها في: C:/LINCS_DATA/common_drugs_in_both.csv\n"
     ]
    }
   ],
   "source": [
    "\n",
    "output_path = 'C:/LINCS_DATA/common_drugs_in_both.csv'\n",
    "pd.DataFrame(common_drugs, columns=['drug_name']).to_csv(output_path, index=False)\n",
    "\n",
    "print(f\"✅ عدد الأدوية المشتركة بين LINCS وSYNERGxDB: {len(common_drugs)}\")\n",
    "print(f\"📄 تم حفظها في: {output_path}\")"
   ]
  }
 ],
 "metadata": {
  "kernelspec": {
   "display_name": "Python 3",
   "language": "python",
   "name": "python3"
  },
  "language_info": {
   "codemirror_mode": {
    "name": "ipython",
    "version": 3
   },
   "file_extension": ".py",
   "mimetype": "text/x-python",
   "name": "python",
   "nbconvert_exporter": "python",
   "pygments_lexer": "ipython3",
   "version": "3.10.0"
  }
 },
 "nbformat": 4,
 "nbformat_minor": 5
}
