{
 "cells": [
  {
   "cell_type": "code",
   "execution_count": 1,
   "id": "ce440850",
   "metadata": {},
   "outputs": [],
   "source": [
    "import pandas as pd"
   ]
  },
  {
   "cell_type": "code",
   "execution_count": null,
   "id": "1fa45bcc",
   "metadata": {},
   "outputs": [],
   "source": [
    "\n",
    "zscore_df = pd.read_csv(\"C:/LINCS_DATA/project/data/zscore_matrix_392.csv\", index_col=0)"
   ]
  },
  {
   "cell_type": "code",
   "execution_count": null,
   "id": "80eb5529",
   "metadata": {},
   "outputs": [],
   "source": [
    "\n",
    "gene_variances = zscore_df.var(axis=0)"
   ]
  },
  {
   "cell_type": "code",
   "execution_count": null,
   "id": "4c2cab7c",
   "metadata": {},
   "outputs": [],
   "source": [
    "\n",
    "top_genes = gene_variances.sort_values(ascending=False).head(1000).index"
   ]
  },
  {
   "cell_type": "code",
   "execution_count": null,
   "id": "c1884da7",
   "metadata": {},
   "outputs": [],
   "source": [
    "\n",
    "zscore_top_df = zscore_df[top_genes]"
   ]
  },
  {
   "cell_type": "code",
   "execution_count": null,
   "id": "0b544ad7",
   "metadata": {},
   "outputs": [
    {
     "name": "stdout",
     "output_type": "stream",
     "text": [
      "✅ تم استخراج أفضل 1000 جين حسب التباين وحفظهم بنجاح\n"
     ]
    }
   ],
   "source": [
    "\n",
    "zscore_top_df.to_csv(\"C:/LINCS_DATA/project/data/zscore_matrix_top1000.csv\")\n",
    "\n",
    "print(\"✅ تم استخراج أفضل 1000 جين حسب التباين وحفظهم بنجاح\")"
   ]
  }
 ],
 "metadata": {
  "kernelspec": {
   "display_name": "Python 3",
   "language": "python",
   "name": "python3"
  },
  "language_info": {
   "codemirror_mode": {
    "name": "ipython",
    "version": 3
   },
   "file_extension": ".py",
   "mimetype": "text/x-python",
   "name": "python",
   "nbconvert_exporter": "python",
   "pygments_lexer": "ipython3",
   "version": "3.10.0"
  }
 },
 "nbformat": 4,
 "nbformat_minor": 5
}
