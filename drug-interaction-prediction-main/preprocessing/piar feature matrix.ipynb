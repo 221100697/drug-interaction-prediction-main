{
 "cells": [
  {
   "cell_type": "code",
   "execution_count": 32,
   "id": "a79bce77",
   "metadata": {},
   "outputs": [],
   "source": [
    "\n",
    "import pandas as pd"
   ]
  },
  {
   "cell_type": "code",
   "execution_count": null,
   "id": "8516a083",
   "metadata": {},
   "outputs": [],
   "source": [
    "\n",
    "data_path = 'C:/LINCS_DATA/project/data/'\n",
    "zscore_path = data_path + 'zscore_matrix_392.csv'\n",
    "combo_path = data_path + 'LABELS/combo_design.csv'\n",
    "drug_path = data_path + 'LABELS/drug.csv'\n",
    "signature_path = data_path + 'best_signature_per_drug_final.csv'\n",
    "label_path = data_path + 'LABELS/synergy_score.csv'\n"
   ]
  },
  {
   "cell_type": "code",
   "execution_count": null,
   "id": "0b53d046",
   "metadata": {},
   "outputs": [],
   "source": [
    "\n",
    "zscore_df = pd.read_csv(zscore_path, index_col='sig_id')\n",
    "combo_df = pd.read_csv(combo_path)\n",
    "drug_df = pd.read_csv(drug_path)\n",
    "sig_df = pd.read_csv(signature_path)\n",
    "label_df = pd.read_csv(label_path)"
   ]
  },
  {
   "cell_type": "code",
   "execution_count": null,
   "id": "56494964",
   "metadata": {},
   "outputs": [],
   "source": [
    "\n",
    "\n",
    "drug_map = dict(zip(drug_df['idDrug'], drug_df['name']))"
   ]
  },
  {
   "cell_type": "code",
   "execution_count": null,
   "id": "0543049f",
   "metadata": {},
   "outputs": [],
   "source": [
    "\n",
    "combo_df = combo_df.reset_index(drop=True)\n",
    "combo_df['row_index'] = combo_df.index + 1  # لمطابقة idSynergy_Score"
   ]
  },
  {
   "cell_type": "code",
   "execution_count": null,
   "id": "2aa46b9c",
   "metadata": {},
   "outputs": [],
   "source": [
    "\n",
    "combo_df['drug1_name'] = combo_df['idDrugA'].map(drug_map).str.lower().str.strip()\n",
    "combo_df['drug2_name'] = combo_df['idDrugB'].map(drug_map).str.lower().str.strip()\n",
    "sig_df['pert_iname'] = sig_df['pert_iname'].str.lower().str.strip()\n"
   ]
  },
  {
   "cell_type": "code",
   "execution_count": null,
   "id": "9721e0de",
   "metadata": {},
   "outputs": [],
   "source": [
    "\n",
    "sig_map = dict(zip(sig_df['pert_iname'], sig_df['sig_id']))\n",
    "combo_df['sig_id_1'] = combo_df['drug1_name'].map(sig_map)\n",
    "combo_df['sig_id_2'] = combo_df['drug2_name'].map(sig_map)"
   ]
  },
  {
   "cell_type": "code",
   "execution_count": null,
   "id": "88903677",
   "metadata": {},
   "outputs": [],
   "source": [
    "\n",
    "\n",
    "combo_df = combo_df.dropna(subset=['sig_id_1', 'sig_id_2'])"
   ]
  },
  {
   "cell_type": "code",
   "execution_count": null,
   "id": "cfe77b6a",
   "metadata": {},
   "outputs": [],
   "source": [
    "\n",
    "\n",
    "label_map = dict(zip(label_df['idSynergy_Score'], label_df['zip']))\n",
    "combo_df['zip'] = combo_df['row_index'].map(label_map)"
   ]
  },
  {
   "cell_type": "code",
   "execution_count": null,
   "id": "70251827",
   "metadata": {},
   "outputs": [],
   "source": [
    "\n",
    "\n",
    "combo_df['label'] = combo_df['zip'].apply(lambda x: 1 if x > -0.5 else 0)"
   ]
  },
  {
   "cell_type": "code",
   "execution_count": null,
   "id": "1c613e99",
   "metadata": {},
   "outputs": [],
   "source": [
    "\n",
    "combo_df = combo_df.dropna(subset=['label'])"
   ]
  },
  {
   "cell_type": "code",
   "execution_count": null,
   "id": "b8345da0",
   "metadata": {},
   "outputs": [],
   "source": [
    "\n",
    "X = []\n",
    "y = []\n",
    "\n",
    "for _, row in combo_df.iterrows():\n",
    "    sig1 = row['sig_id_1']\n",
    "    sig2 = row['sig_id_2']\n",
    "    if sig1 in zscore_df.index and sig2 in zscore_df.index:\n",
    "        vec1 = zscore_df.loc[sig1].values\n",
    "        vec2 = zscore_df.loc[sig2].values\n",
    "        pair_vector = list(vec1) + list(vec2)\n",
    "        X.append(pair_vector)\n",
    "        y.append(int(row['label']))\n"
   ]
  },
  {
   "cell_type": "code",
   "execution_count": null,
   "id": "3a883003",
   "metadata": {},
   "outputs": [
    {
     "name": "stdout",
     "output_type": "stream",
     "text": [
      "✅ تم إنشاء 490 زوج دواء وتخزينهم بنجاح.\n"
     ]
    }
   ],
   "source": [
    "\n",
    "features_df = pd.DataFrame(X)\n",
    "labels_df = pd.DataFrame(y, columns=['label'])\n",
    "\n",
    "features_df.to_csv('C:/LINCS_DATA/project/features/pair_feature_matrix.csv', index=False)\n",
    "labels_df.to_csv('C:/LINCS_DATA/project/features/pair_labels.csv', index=False)\n",
    "\n",
    "print(f\"✅ تم إنشاء {len(X)} زوج دواء وتخزينهم بنجاح.\")\n"
   ]
  }
 ],
 "metadata": {
  "kernelspec": {
   "display_name": "Python 3",
   "language": "python",
   "name": "python3"
  },
  "language_info": {
   "codemirror_mode": {
    "name": "ipython",
    "version": 3
   },
   "file_extension": ".py",
   "mimetype": "text/x-python",
   "name": "python",
   "nbconvert_exporter": "python",
   "pygments_lexer": "ipython3",
   "version": "3.10.0"
  }
 },
 "nbformat": 4,
 "nbformat_minor": 5
}
