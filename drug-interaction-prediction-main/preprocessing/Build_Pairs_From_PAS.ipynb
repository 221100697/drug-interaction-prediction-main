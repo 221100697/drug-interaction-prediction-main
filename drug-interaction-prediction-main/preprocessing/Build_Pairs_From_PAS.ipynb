{
 "cells": [
  {
   "cell_type": "code",
   "execution_count": null,
   "id": "6f50bfe6",
   "metadata": {},
   "outputs": [
    {
     "name": "stdout",
     "output_type": "stream",
     "text": [
      "✅ تم إنشاء الملف pair_pas_matrix.csv بنجاح.\n",
      "🔢 عدد الصفوف: 952\n"
     ]
    }
   ],
   "source": [
    "import pandas as pd\n",
    "\n",
    "\n",
    "pas_df = pd.read_csv(r\"C:\\project grad linex\\project\\features\\pas_matrix_hallmark_50.csv\")\n",
    "combo_df = pd.read_csv(r\"C:\\project grad linex\\project\\data\\LABELS\\combo_with_zip.csv\")\n",
    "\n",
    "\n",
    "pas_features = pas_df.drop(columns=[\"sig_id\"]) if \"sig_id\" in pas_df.columns else pas_df\n",
    "\n",
    "\n",
    "pair_features = []\n",
    "labels = []\n",
    "\n",
    "for _, row in combo_df.iterrows():\n",
    "    idx_a = int(row['idDrugA'])\n",
    "    idx_b = int(row['idDrugB'])\n",
    "    zip_score = row['zip']\n",
    "\n",
    "    if 0 <= idx_a < len(pas_features) and 0 <= idx_b < len(pas_features):\n",
    "        pas_a = pas_features.iloc[idx_a].values\n",
    "        pas_b = pas_features.iloc[idx_b].values\n",
    "        combined = list(pas_a) + list(pas_b)\n",
    "\n",
    "    \n",
    "        label = 1 if zip_score <= -0.5 else 0\n",
    "\n",
    "        pair_features.append(combined)\n",
    "        labels.append(label)\n",
    "\n",
    "\n",
    "columns = [f\"A_{col}\" for col in pas_features.columns] + [f\"B_{col}\" for col in pas_features.columns]\n",
    "pair_df = pd.DataFrame(pair_features, columns=columns)\n",
    "pair_df[\"label\"] = labels\n",
    "\n",
    "\n",
    "output_path = r\"C:\\project grad linex\\project\\features\\pair_pas_matrix.csv\"\n",
    "pair_df.to_csv(output_path, index=False)\n",
    "\n"
   ]
  }
 ],
 "metadata": {
  "kernelspec": {
   "display_name": "Python 3",
   "language": "python",
   "name": "python3"
  },
  "language_info": {
   "codemirror_mode": {
    "name": "ipython",
    "version": 3
   },
   "file_extension": ".py",
   "mimetype": "text/x-python",
   "name": "python",
   "nbconvert_exporter": "python",
   "pygments_lexer": "ipython3",
   "version": "3.13.1"
  }
 },
 "nbformat": 4,
 "nbformat_minor": 5
}
