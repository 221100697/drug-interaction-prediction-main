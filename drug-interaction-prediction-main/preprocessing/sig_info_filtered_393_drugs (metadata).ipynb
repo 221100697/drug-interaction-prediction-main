{
 "cells": [
  {
   "cell_type": "code",
   "execution_count": 1,
   "id": "b79d29ac",
   "metadata": {},
   "outputs": [],
   "source": [
    "import pandas as pd\n"
   ]
  },
  {
   "cell_type": "code",
   "execution_count": null,
   "id": "246efea9",
   "metadata": {},
   "outputs": [],
   "source": [
    "\n",
    "common_drugs_path = 'C:/LINCS_DATA/common_drugs_in_both.csv'\n",
    "sig_info_path = 'C:/LINCS_DATA/GSE92742_Broad_LINCS_sig_info1.txt'"
   ]
  },
  {
   "cell_type": "code",
   "execution_count": null,
   "id": "dce2d702",
   "metadata": {},
   "outputs": [
    {
     "name": "stderr",
     "output_type": "stream",
     "text": [
      "C:\\Users\\Reem Ramadan\\AppData\\Local\\Temp\\ipykernel_4736\\2934696598.py:3: DtypeWarning: Columns (5) have mixed types. Specify dtype option on import or set low_memory=False.\n",
      "  sig_info_df = pd.read_csv(sig_info_path, sep='\\t')\n"
     ]
    }
   ],
   "source": [
    "\n",
    "common_drugs = pd.read_csv(common_drugs_path)['drug_name'].str.lower().str.strip().unique()\n",
    "sig_info_df = pd.read_csv(sig_info_path, sep='\\t')"
   ]
  },
  {
   "cell_type": "code",
   "execution_count": null,
   "id": "136d5df0",
   "metadata": {},
   "outputs": [],
   "source": [
    "\n",
    "sig_info_filtered = sig_info_df[sig_info_df['pert_iname'].str.lower().str.strip().isin(common_drugs)]\n"
   ]
  },
  {
   "cell_type": "code",
   "execution_count": null,
   "id": "efa82cf5",
   "metadata": {},
   "outputs": [],
   "source": [
    "\n",
    "filtered_path = 'C:/LINCS_DATA/sig_info_filtered_393_drugs.csv'\n",
    "sig_info_filtered.to_csv(filtered_path, index=False)"
   ]
  },
  {
   "cell_type": "code",
   "execution_count": null,
   "id": "dac9af51",
   "metadata": {},
   "outputs": [
    {
     "name": "stdout",
     "output_type": "stream",
     "text": [
      "Total rows: 21766\n",
      "Unique sig_id: 21766\n",
      "Duplicate sig_ids:\n",
      "Empty DataFrame\n",
      "Columns: [sig_id, pert_id, pert_iname, pert_type, cell_id, pert_dose, pert_dose_unit, pert_idose, pert_time, pert_time_unit, pert_itime, distil_id]\n",
      "Index: []\n"
     ]
    }
   ],
   "source": [
    "\n",
    "\n",
    "print(\"Total rows:\", len(sig_info_filtered))\n",
    "print(\"Unique sig_id:\", sig_info_filtered['sig_id'].nunique())\n",
    "print(\"Duplicate sig_ids:\")\n",
    "print(sig_info_filtered[sig_info_filtered.duplicated('sig_id', keep=False)])"
   ]
  },
  {
   "cell_type": "code",
   "execution_count": null,
   "id": "4714c058",
   "metadata": {},
   "outputs": [
    {
     "name": "stdout",
     "output_type": "stream",
     "text": [
      "Total unique drugs: 392\n",
      "Top repeated drug names:\n",
      "pert_iname\n",
      "vorinostat       1323\n",
      "geldanamycin      934\n",
      "sirolimus         470\n",
      "curcumin          324\n",
      "estradiol         302\n",
      "fulvestrant       281\n",
      "tozasertib        279\n",
      "tamoxifen         261\n",
      "raloxifene        230\n",
      "dexamethasone     221\n",
      "Name: count, dtype: int64\n"
     ]
    }
   ],
   "source": [
    "\n",
    "print(\"Total unique drugs:\", sig_info_filtered['pert_iname'].nunique())\n",
    "print(\"Top repeated drug names:\")\n",
    "print(sig_info_filtered['pert_iname'].value_counts().head(10))\n"
   ]
  }
 ],
 "metadata": {
  "kernelspec": {
   "display_name": "Python 3",
   "language": "python",
   "name": "python3"
  },
  "language_info": {
   "codemirror_mode": {
    "name": "ipython",
    "version": 3
   },
   "file_extension": ".py",
   "mimetype": "text/x-python",
   "name": "python",
   "nbconvert_exporter": "python",
   "pygments_lexer": "ipython3",
   "version": "3.10.0"
  }
 },
 "nbformat": 4,
 "nbformat_minor": 5
}
