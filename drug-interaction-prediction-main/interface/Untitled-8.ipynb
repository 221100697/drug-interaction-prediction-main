{
 "cells": [
  {
   "cell_type": "code",
   "execution_count": 4,
   "id": "335c8662",
   "metadata": {},
   "outputs": [],
   "source": [
    "import streamlit as st\n",
    "import pandas as pd\n",
    "import joblib\n",
    "import seaborn as sns\n",
    "import matplotlib.pyplot as plt\n",
    "import numpy as np"
   ]
  },
  {
   "cell_type": "code",
   "execution_count": 5,
   "id": "f1418102",
   "metadata": {},
   "outputs": [
    {
     "name": "stderr",
     "output_type": "stream",
     "text": [
      "2025-06-10 06:36:43.343 WARNING streamlit.runtime.caching.cache_data_api: No runtime found, using MemoryCacheStorageManager\n",
      "2025-06-10 06:36:43.348 WARNING streamlit.runtime.caching.cache_data_api: No runtime found, using MemoryCacheStorageManager\n",
      "2025-06-10 06:36:43.350 WARNING streamlit.runtime.scriptrunner_utils.script_run_context: Thread 'MainThread': missing ScriptRunContext! This warning can be ignored when running in bare mode.\n",
      "2025-06-10 06:36:43.786 \n",
      "  \u001b[33m\u001b[1mWarning:\u001b[0m to view this Streamlit app on a browser, run it with the following\n",
      "  command:\n",
      "\n",
      "    streamlit run C:\\Users\\Reem Ramadan\\AppData\\Roaming\\Python\\Python310\\site-packages\\ipykernel_launcher.py [ARGUMENTS]\n",
      "2025-06-10 06:36:43.787 Thread 'MainThread': missing ScriptRunContext! This warning can be ignored when running in bare mode.\n",
      "2025-06-10 06:36:43.788 Thread 'MainThread': missing ScriptRunContext! This warning can be ignored when running in bare mode.\n",
      "2025-06-10 06:36:44.042 Thread 'MainThread': missing ScriptRunContext! This warning can be ignored when running in bare mode.\n",
      "2025-06-10 06:36:44.043 Thread 'MainThread': missing ScriptRunContext! This warning can be ignored when running in bare mode.\n",
      "2025-06-10 06:36:52.111 Thread 'MainThread': missing ScriptRunContext! This warning can be ignored when running in bare mode.\n",
      "2025-06-10 06:36:52.112 Thread 'MainThread': missing ScriptRunContext! This warning can be ignored when running in bare mode.\n",
      "2025-06-10 06:36:52.113 Thread 'MainThread': missing ScriptRunContext! This warning can be ignored when running in bare mode.\n",
      "2025-06-10 06:36:52.114 Thread 'MainThread': missing ScriptRunContext! This warning can be ignored when running in bare mode.\n",
      "2025-06-10 06:36:52.115 Thread 'MainThread': missing ScriptRunContext! This warning can be ignored when running in bare mode.\n",
      "2025-06-10 06:36:52.115 Thread 'MainThread': missing ScriptRunContext! This warning can be ignored when running in bare mode.\n",
      "2025-06-10 06:36:52.117 Thread 'MainThread': missing ScriptRunContext! This warning can be ignored when running in bare mode.\n"
     ]
    }
   ],
   "source": [
    "# Load model and data\n",
    "@st.cache_data\n",
    "def load_data():\n",
    "    df = pd.read_csv(r\"C:\\LINCS_DATA\\project\\features\\pair_feature_matrix_labeled_top_1000_gene.csv\")\n",
    "    df.rename(columns={'drugA_name': 'drugA', 'drugB_name': 'drugB'}, inplace=True)\n",
    "    return df\n",
    "\n",
    "df = load_data()\n",
    "feature_cols = [col for col in df.columns if col.startswith(\"gene\")]\n",
    "model = joblib.load(r\"C:\\LINCS_DATA\\project\\features\\tabtrans_model.pkl\")\n",
    "all_drugs = sorted(pd.unique(df[['drugA', 'drugB']].values.ravel('K')))\n",
    "\n",
    "# UI layout\n",
    "st.title(\"🧪 Drug Interaction Dashboard\")\n",
    "tab1, tab2, tab3, tab4 = st.tabs([\n",
    "    \"1️⃣ Predict Synergy\", \n",
    "    \"2️⃣ Recommend Drugs\", \n",
    "    \"3️⃣ Explain Prediction (GPT)\", \n",
    "    \"4️⃣ Heatmap\"\n",
    "])\n"
   ]
  },
  {
   "cell_type": "code",
   "execution_count": 6,
   "id": "d0549a9d",
   "metadata": {},
   "outputs": [
    {
     "name": "stderr",
     "output_type": "stream",
     "text": [
      "2025-06-10 06:36:56.201 Thread 'MainThread': missing ScriptRunContext! This warning can be ignored when running in bare mode.\n",
      "2025-06-10 06:36:56.202 Thread 'MainThread': missing ScriptRunContext! This warning can be ignored when running in bare mode.\n",
      "2025-06-10 06:36:56.203 Thread 'MainThread': missing ScriptRunContext! This warning can be ignored when running in bare mode.\n",
      "2025-06-10 06:36:56.203 Thread 'MainThread': missing ScriptRunContext! This warning can be ignored when running in bare mode.\n",
      "2025-06-10 06:36:56.204 Thread 'MainThread': missing ScriptRunContext! This warning can be ignored when running in bare mode.\n",
      "2025-06-10 06:36:56.206 Thread 'MainThread': missing ScriptRunContext! This warning can be ignored when running in bare mode.\n",
      "2025-06-10 06:36:56.207 Session state does not function when running a script without `streamlit run`\n",
      "2025-06-10 06:36:56.207 Thread 'MainThread': missing ScriptRunContext! This warning can be ignored when running in bare mode.\n",
      "2025-06-10 06:36:56.208 Thread 'MainThread': missing ScriptRunContext! This warning can be ignored when running in bare mode.\n",
      "2025-06-10 06:36:56.209 Thread 'MainThread': missing ScriptRunContext! This warning can be ignored when running in bare mode.\n",
      "2025-06-10 06:36:56.209 Thread 'MainThread': missing ScriptRunContext! This warning can be ignored when running in bare mode.\n",
      "2025-06-10 06:36:56.211 Thread 'MainThread': missing ScriptRunContext! This warning can be ignored when running in bare mode.\n",
      "2025-06-10 06:36:56.212 Thread 'MainThread': missing ScriptRunContext! This warning can be ignored when running in bare mode.\n",
      "2025-06-10 06:36:56.213 Thread 'MainThread': missing ScriptRunContext! This warning can be ignored when running in bare mode.\n",
      "2025-06-10 06:36:56.214 Thread 'MainThread': missing ScriptRunContext! This warning can be ignored when running in bare mode.\n",
      "2025-06-10 06:36:56.215 Thread 'MainThread': missing ScriptRunContext! This warning can be ignored when running in bare mode.\n",
      "2025-06-10 06:36:56.216 Thread 'MainThread': missing ScriptRunContext! This warning can be ignored when running in bare mode.\n"
     ]
    }
   ],
   "source": [
    "# Tab 1: Predict Synergy\n",
    "with tab1:\n",
    "    st.subheader(\"🔍 Predict Interaction Between Two Drugs\")\n",
    "    drugA = st.selectbox(\"Choose Drug A\", all_drugs, key=\"drugA_predict\")\n",
    "    drugB = st.selectbox(\"Choose Drug B\", all_drugs, key=\"drugB_predict\")\n",
    "\n",
    "    if drugA != drugB:\n",
    "        row = df[((df[\"drugA\"] == drugA) & (df[\"drugB\"] == drugB)) |\n",
    "                 ((df[\"drugA\"] == drugB) & (df[\"drugB\"] == drugA))]\n",
    "\n",
    "        if not row.empty:\n",
    "            X = row[feature_cols].values\n",
    "            score = model.predict(X).ravel()[0]\n",
    "            label = int(score > 0.5)\n",
    "            st.success(f\"Predicted Score: {score:.3f}\")\n",
    "            st.info(f\"Predicted Label: {'Synergy (1)' if label == 1 else 'No Synergy (0)'}\")\n",
    "        else:\n",
    "            st.warning(\"⚠️ This drug pair is not found in the dataset.\")\n",
    "    else:\n",
    "        st.warning(\"⚠️ Please select two different drugs.\")"
   ]
  },
  {
   "cell_type": "code",
   "execution_count": 7,
   "id": "acc1eb54",
   "metadata": {},
   "outputs": [
    {
     "name": "stderr",
     "output_type": "stream",
     "text": [
      "2025-06-10 06:37:09.453 Thread 'MainThread': missing ScriptRunContext! This warning can be ignored when running in bare mode.\n",
      "2025-06-10 06:37:09.458 Thread 'MainThread': missing ScriptRunContext! This warning can be ignored when running in bare mode.\n",
      "2025-06-10 06:37:09.460 Thread 'MainThread': missing ScriptRunContext! This warning can be ignored when running in bare mode.\n",
      "2025-06-10 06:37:09.461 Thread 'MainThread': missing ScriptRunContext! This warning can be ignored when running in bare mode.\n",
      "2025-06-10 06:37:09.461 Thread 'MainThread': missing ScriptRunContext! This warning can be ignored when running in bare mode.\n",
      "2025-06-10 06:37:09.463 Thread 'MainThread': missing ScriptRunContext! This warning can be ignored when running in bare mode.\n",
      "2025-06-10 06:37:09.464 Thread 'MainThread': missing ScriptRunContext! This warning can be ignored when running in bare mode.\n",
      "2025-06-10 06:37:09.465 Thread 'MainThread': missing ScriptRunContext! This warning can be ignored when running in bare mode.\n"
     ]
    },
    {
     "name": "stdout",
     "output_type": "stream",
     "text": [
      "\u001b[1m2/2\u001b[0m \u001b[32m━━━━━━━━━━━━━━━━━━━━\u001b[0m\u001b[37m\u001b[0m \u001b[1m1s\u001b[0m 494ms/step\n"
     ]
    },
    {
     "name": "stderr",
     "output_type": "stream",
     "text": [
      "2025-06-10 06:37:10.421 Thread 'MainThread': missing ScriptRunContext! This warning can be ignored when running in bare mode.\n",
      "2025-06-10 06:37:10.422 Thread 'MainThread': missing ScriptRunContext! This warning can be ignored when running in bare mode.\n"
     ]
    }
   ],
   "source": [
    "# Tab 2: Recommend Drugs\n",
    "with tab2:\n",
    "    st.subheader(\"💊 Recommend Compatible Drugs\")\n",
    "    drugA_rec = st.selectbox(\"Choose Drug A\", all_drugs, key=\"drugA_recommend\")\n",
    "    rec_df = df[(df[\"drugA\"] == drugA_rec) | (df[\"drugB\"] == drugA_rec)].copy()\n",
    "    if not rec_df.empty:\n",
    "        X = rec_df[feature_cols].values\n",
    "        scores = model.predict(X).ravel()\n",
    "        rec_df[\"predicted_score\"] = scores\n",
    "        rec_df[\"predicted_label\"] = (scores > 0.5).astype(int)\n",
    "        rec_df_sorted = rec_df.sort_values(by=\"predicted_score\", ascending=False)\n",
    "        st.dataframe(rec_df_sorted[[\"drugA\", \"drugB\", \"predicted_score\", \"predicted_label\"]].reset_index(drop=True))\n",
    "    else:\n",
    "        st.warning(\"No compatible drugs found in dataset.\")\n"
   ]
  },
  {
   "cell_type": "code",
   "execution_count": 8,
   "id": "8d5e8a13",
   "metadata": {},
   "outputs": [
    {
     "name": "stderr",
     "output_type": "stream",
     "text": [
      "2025-06-10 06:37:12.802 Thread 'MainThread': missing ScriptRunContext! This warning can be ignored when running in bare mode.\n",
      "2025-06-10 06:37:12.802 Thread 'MainThread': missing ScriptRunContext! This warning can be ignored when running in bare mode.\n",
      "2025-06-10 06:37:12.807 Thread 'MainThread': missing ScriptRunContext! This warning can be ignored when running in bare mode.\n",
      "2025-06-10 06:37:12.809 Thread 'MainThread': missing ScriptRunContext! This warning can be ignored when running in bare mode.\n",
      "2025-06-10 06:37:12.810 Thread 'MainThread': missing ScriptRunContext! This warning can be ignored when running in bare mode.\n",
      "2025-06-10 06:37:12.811 Thread 'MainThread': missing ScriptRunContext! This warning can be ignored when running in bare mode.\n",
      "2025-06-10 06:37:12.813 Thread 'MainThread': missing ScriptRunContext! This warning can be ignored when running in bare mode.\n",
      "2025-06-10 06:37:12.814 Thread 'MainThread': missing ScriptRunContext! This warning can be ignored when running in bare mode.\n",
      "2025-06-10 06:37:12.816 Thread 'MainThread': missing ScriptRunContext! This warning can be ignored when running in bare mode.\n",
      "2025-06-10 06:37:12.817 Thread 'MainThread': missing ScriptRunContext! This warning can be ignored when running in bare mode.\n",
      "2025-06-10 06:37:12.817 Thread 'MainThread': missing ScriptRunContext! This warning can be ignored when running in bare mode.\n",
      "2025-06-10 06:37:12.818 Thread 'MainThread': missing ScriptRunContext! This warning can be ignored when running in bare mode.\n",
      "2025-06-10 06:37:12.819 Thread 'MainThread': missing ScriptRunContext! This warning can be ignored when running in bare mode.\n",
      "2025-06-10 06:37:12.820 Thread 'MainThread': missing ScriptRunContext! This warning can be ignored when running in bare mode.\n",
      "2025-06-10 06:37:12.820 Thread 'MainThread': missing ScriptRunContext! This warning can be ignored when running in bare mode.\n",
      "2025-06-10 06:37:12.821 Thread 'MainThread': missing ScriptRunContext! This warning can be ignored when running in bare mode.\n",
      "2025-06-10 06:37:12.823 Thread 'MainThread': missing ScriptRunContext! This warning can be ignored when running in bare mode.\n",
      "2025-06-10 06:37:12.824 Thread 'MainThread': missing ScriptRunContext! This warning can be ignored when running in bare mode.\n",
      "2025-06-10 06:37:12.825 Thread 'MainThread': missing ScriptRunContext! This warning can be ignored when running in bare mode.\n",
      "2025-06-10 06:37:12.825 Thread 'MainThread': missing ScriptRunContext! This warning can be ignored when running in bare mode.\n",
      "2025-06-10 06:37:12.826 Thread 'MainThread': missing ScriptRunContext! This warning can be ignored when running in bare mode.\n",
      "2025-06-10 06:37:12.827 Thread 'MainThread': missing ScriptRunContext! This warning can be ignored when running in bare mode.\n",
      "2025-06-10 06:37:12.827 Thread 'MainThread': missing ScriptRunContext! This warning can be ignored when running in bare mode.\n",
      "2025-06-10 06:37:12.829 Thread 'MainThread': missing ScriptRunContext! This warning can be ignored when running in bare mode.\n",
      "2025-06-10 06:37:12.830 Thread 'MainThread': missing ScriptRunContext! This warning can be ignored when running in bare mode.\n",
      "2025-06-10 06:37:12.831 Thread 'MainThread': missing ScriptRunContext! This warning can be ignored when running in bare mode.\n",
      "2025-06-10 06:37:12.832 Thread 'MainThread': missing ScriptRunContext! This warning can be ignored when running in bare mode.\n",
      "2025-06-10 06:37:12.833 Thread 'MainThread': missing ScriptRunContext! This warning can be ignored when running in bare mode.\n",
      "2025-06-10 06:37:12.833 Thread 'MainThread': missing ScriptRunContext! This warning can be ignored when running in bare mode.\n",
      "2025-06-10 06:37:12.834 Thread 'MainThread': missing ScriptRunContext! This warning can be ignored when running in bare mode.\n",
      "2025-06-10 06:37:12.835 Thread 'MainThread': missing ScriptRunContext! This warning can be ignored when running in bare mode.\n"
     ]
    }
   ],
   "source": [
    "# Tab 3: GPT Explanation (Mocked)\n",
    "with tab3:\n",
    "    st.subheader(\"🧠 Explain Prediction Using GPT\")\n",
    "    drugA_exp = st.selectbox(\"Drug A\", all_drugs, key=\"drugA_exp\")\n",
    "    drugB_exp = st.selectbox(\"Drug B\", all_drugs, key=\"drugB_exp\")\n",
    "    score_input = st.number_input(\"Predicted Score\", min_value=0.0, max_value=1.0, step=0.01)\n",
    "    label_input = st.selectbox(\"Predicted Label\", [0, 1])\n",
    "\n",
    "    if st.button(\"Generate Explanation\"):\n",
    "        explanation = f\"Based on the predicted synergy score of {score_input:.2f} between {drugA_exp} and {drugB_exp}, and the predicted label {label_input}, this combination may {'enhance therapeutic effect' if label_input == 1 else 'lack synergy'}.\"\n",
    "        st.info(explanation)"
   ]
  },
  {
   "cell_type": "code",
   "execution_count": 10,
   "id": "57935842",
   "metadata": {},
   "outputs": [
    {
     "name": "stderr",
     "output_type": "stream",
     "text": [
      "2025-06-10 06:37:28.361 Thread 'MainThread': missing ScriptRunContext! This warning can be ignored when running in bare mode.\n",
      "2025-06-10 06:37:28.362 Thread 'MainThread': missing ScriptRunContext! This warning can be ignored when running in bare mode.\n",
      "2025-06-10 06:37:28.362 Thread 'MainThread': missing ScriptRunContext! This warning can be ignored when running in bare mode.\n",
      "2025-06-10 06:37:28.364 Thread 'MainThread': missing ScriptRunContext! This warning can be ignored when running in bare mode.\n",
      "2025-06-10 06:37:28.364 Thread 'MainThread': missing ScriptRunContext! This warning can be ignored when running in bare mode.\n",
      "2025-06-10 06:37:28.365 Thread 'MainThread': missing ScriptRunContext! This warning can be ignored when running in bare mode.\n",
      "2025-06-10 06:37:28.367 Thread 'MainThread': missing ScriptRunContext! This warning can be ignored when running in bare mode.\n",
      "2025-06-10 06:37:28.368 Thread 'MainThread': missing ScriptRunContext! This warning can be ignored when running in bare mode.\n",
      "2025-06-10 06:37:28.369 Thread 'MainThread': missing ScriptRunContext! This warning can be ignored when running in bare mode.\n",
      "2025-06-10 06:37:28.371 Thread 'MainThread': missing ScriptRunContext! This warning can be ignored when running in bare mode.\n",
      "2025-06-10 06:37:28.372 Thread 'MainThread': missing ScriptRunContext! This warning can be ignored when running in bare mode.\n",
      "2025-06-10 06:37:28.373 Thread 'MainThread': missing ScriptRunContext! This warning can be ignored when running in bare mode.\n",
      "2025-06-10 06:37:28.374 Thread 'MainThread': missing ScriptRunContext! This warning can be ignored when running in bare mode.\n",
      "2025-06-10 06:37:28.375 Thread 'MainThread': missing ScriptRunContext! This warning can be ignored when running in bare mode.\n",
      "2025-06-10 06:37:28.377 Thread 'MainThread': missing ScriptRunContext! This warning can be ignored when running in bare mode.\n",
      "2025-06-10 06:37:28.379 Thread 'MainThread': missing ScriptRunContext! This warning can be ignored when running in bare mode.\n"
     ]
    }
   ],
   "source": [
    "# Tab 4: Heatmap\n",
    "with tab4:\n",
    "    st.subheader(\"🧬 Gene Feature Heatmap for Drug Pair\")\n",
    "    drugA_hm = st.selectbox(\"Drug A\", all_drugs, key=\"drugA_hm\")\n",
    "    drugB_hm = st.selectbox(\"Drug B\", all_drugs, key=\"drugB_hm\")\n",
    "\n",
    "    row = df[((df[\"drugA\"] == drugA_hm) & (df[\"drugB\"] == drugB_hm)) |\n",
    "             ((df[\"drugA\"] == drugB_hm) & (df[\"drugB\"] == drugA_hm))]\n",
    "\n",
    "    if not row.empty:\n",
    "        genes = row[feature_cols].values.flatten()\n",
    "        fig, ax = plt.subplots(figsize=(12, 1))\n",
    "        sns.heatmap([genes], cmap=\"coolwarm\", cbar=True, ax=ax)\n",
    "        ax.set_yticklabels([f\"{drugA_hm} vs {drugB_hm}\"])\n",
    "        ax.set_xticks([])\n",
    "        st.pyplot(fig)\n",
    "    else:\n",
    "        st.warning(\"No gene data available for this pair.\")\n"
   ]
  }
 ],
 "metadata": {
  "kernelspec": {
   "display_name": "Python 3",
   "language": "python",
   "name": "python3"
  },
  "language_info": {
   "codemirror_mode": {
    "name": "ipython",
    "version": 3
   },
   "file_extension": ".py",
   "mimetype": "text/x-python",
   "name": "python",
   "nbconvert_exporter": "python",
   "pygments_lexer": "ipython3",
   "version": "3.10.0"
  }
 },
 "nbformat": 4,
 "nbformat_minor": 5
}
